{
 "cells": [
  {
   "cell_type": "markdown",
   "metadata": {},
   "source": [
    "## Parse API-files\n",
    "Input: folder with gzip files\n",
    "Output: saved csv"
   ]
  },
  {
   "cell_type": "code",
   "execution_count": 5,
   "metadata": {},
   "outputs": [],
   "source": [
    "import os\n",
    "import numpy as np\n",
    "import pandas as pd\n",
    "import matplotlib.pyplot as plt\n",
    "from datetime import timedelta, datetime"
   ]
  },
  {
   "cell_type": "code",
   "execution_count": 6,
   "metadata": {},
   "outputs": [
    {
     "name": "stdout",
     "output_type": "stream",
     "text": [
      "Failed to import: .DS_Store\n",
      "Error that occured: Not a gzipped file (b'\\x00\\x00')\n",
      "Failed to import: Icon\n",
      "Error that occured: No columns to parse from file\n"
     ]
    }
   ],
   "source": [
    "def parse_files(folder, upsample = True, keep = 120):\n",
    "    \n",
    "    hourly = pd.DataFrame()\n",
    "    three_hourly = pd.DataFrame()\n",
    "    for filename in os.listdir(folder):\n",
    "        try:\n",
    "            df = pd.read_csv(os.path.join(folder, filename), compression=\"gzip\", parse_dates=[\"time\"]).drop(\"Unnamed: 0\", axis = 1)\n",
    "            df = df.set_index(\"time\")\n",
    "            if upsample: df = df.resample(\"10T\").bfill()\n",
    "            df[\"collected\"] = df.index[0] - timedelta(minutes=30)\n",
    "            df = df.iloc[0:keep]\n",
    "            if len(df.columns) == 5:\n",
    "                hourly = hourly.append(df)\n",
    "            else:\n",
    "                three_hourly = three_hourly.append(df)\n",
    "        except Exception as E:\n",
    "            print(\"Failed to import:\", filename)\n",
    "            print(\"Error that occured:\", E)\n",
    "\n",
    "\n",
    "    return hourly, three_hourly\n",
    "hourly, three_hourly = parse_files(\"./solcast\")\n",
    "hourly = hourly.sort_values(by=[\"collected\", \"time\"])\n"
   ]
  },
  {
   "cell_type": "code",
   "execution_count": 9,
   "metadata": {},
   "outputs": [
    {
     "data": {
      "text/html": [
       "<div>\n",
       "<style scoped>\n",
       "    .dataframe tbody tr th:only-of-type {\n",
       "        vertical-align: middle;\n",
       "    }\n",
       "\n",
       "    .dataframe tbody tr th {\n",
       "        vertical-align: top;\n",
       "    }\n",
       "\n",
       "    .dataframe thead th {\n",
       "        text-align: right;\n",
       "    }\n",
       "</style>\n",
       "<table border=\"1\" class=\"dataframe\">\n",
       "  <thead>\n",
       "    <tr style=\"text-align: right;\">\n",
       "      <th></th>\n",
       "      <th>temp</th>\n",
       "      <th>GHI</th>\n",
       "      <th>GHI90</th>\n",
       "      <th>GHI10</th>\n",
       "      <th>collected</th>\n",
       "    </tr>\n",
       "    <tr>\n",
       "      <th>time</th>\n",
       "      <th></th>\n",
       "      <th></th>\n",
       "      <th></th>\n",
       "      <th></th>\n",
       "      <th></th>\n",
       "    </tr>\n",
       "  </thead>\n",
       "  <tbody>\n",
       "    <tr>\n",
       "      <th>2021-04-03 10:30:00</th>\n",
       "      <td>5</td>\n",
       "      <td>554</td>\n",
       "      <td>555</td>\n",
       "      <td>515</td>\n",
       "      <td>2021-04-03 10:00:00</td>\n",
       "    </tr>\n",
       "    <tr>\n",
       "      <th>2021-04-03 10:40:00</th>\n",
       "      <td>6</td>\n",
       "      <td>577</td>\n",
       "      <td>577</td>\n",
       "      <td>546</td>\n",
       "      <td>2021-04-03 10:00:00</td>\n",
       "    </tr>\n",
       "    <tr>\n",
       "      <th>2021-04-03 10:50:00</th>\n",
       "      <td>6</td>\n",
       "      <td>577</td>\n",
       "      <td>577</td>\n",
       "      <td>546</td>\n",
       "      <td>2021-04-03 10:00:00</td>\n",
       "    </tr>\n",
       "    <tr>\n",
       "      <th>2021-04-03 11:00:00</th>\n",
       "      <td>6</td>\n",
       "      <td>577</td>\n",
       "      <td>577</td>\n",
       "      <td>546</td>\n",
       "      <td>2021-04-03 10:00:00</td>\n",
       "    </tr>\n",
       "    <tr>\n",
       "      <th>2021-04-03 11:10:00</th>\n",
       "      <td>6</td>\n",
       "      <td>575</td>\n",
       "      <td>588</td>\n",
       "      <td>475</td>\n",
       "      <td>2021-04-03 10:00:00</td>\n",
       "    </tr>\n",
       "    <tr>\n",
       "      <th>...</th>\n",
       "      <td>...</td>\n",
       "      <td>...</td>\n",
       "      <td>...</td>\n",
       "      <td>...</td>\n",
       "      <td>...</td>\n",
       "    </tr>\n",
       "    <tr>\n",
       "      <th>2021-04-04 05:40:00</th>\n",
       "      <td>1</td>\n",
       "      <td>69</td>\n",
       "      <td>72</td>\n",
       "      <td>40</td>\n",
       "      <td>2021-04-03 10:00:00</td>\n",
       "    </tr>\n",
       "    <tr>\n",
       "      <th>2021-04-04 05:50:00</th>\n",
       "      <td>1</td>\n",
       "      <td>69</td>\n",
       "      <td>72</td>\n",
       "      <td>40</td>\n",
       "      <td>2021-04-03 10:00:00</td>\n",
       "    </tr>\n",
       "    <tr>\n",
       "      <th>2021-04-04 06:00:00</th>\n",
       "      <td>1</td>\n",
       "      <td>69</td>\n",
       "      <td>72</td>\n",
       "      <td>40</td>\n",
       "      <td>2021-04-03 10:00:00</td>\n",
       "    </tr>\n",
       "    <tr>\n",
       "      <th>2021-04-04 06:10:00</th>\n",
       "      <td>2</td>\n",
       "      <td>123</td>\n",
       "      <td>130</td>\n",
       "      <td>71</td>\n",
       "      <td>2021-04-03 10:00:00</td>\n",
       "    </tr>\n",
       "    <tr>\n",
       "      <th>2021-04-04 06:20:00</th>\n",
       "      <td>2</td>\n",
       "      <td>123</td>\n",
       "      <td>130</td>\n",
       "      <td>71</td>\n",
       "      <td>2021-04-03 10:00:00</td>\n",
       "    </tr>\n",
       "  </tbody>\n",
       "</table>\n",
       "<p>120 rows × 5 columns</p>\n",
       "</div>"
      ],
      "text/plain": [
       "                     temp  GHI  GHI90  GHI10           collected\n",
       "time                                                            \n",
       "2021-04-03 10:30:00     5  554    555    515 2021-04-03 10:00:00\n",
       "2021-04-03 10:40:00     6  577    577    546 2021-04-03 10:00:00\n",
       "2021-04-03 10:50:00     6  577    577    546 2021-04-03 10:00:00\n",
       "2021-04-03 11:00:00     6  577    577    546 2021-04-03 10:00:00\n",
       "2021-04-03 11:10:00     6  575    588    475 2021-04-03 10:00:00\n",
       "...                   ...  ...    ...    ...                 ...\n",
       "2021-04-04 05:40:00     1   69     72     40 2021-04-03 10:00:00\n",
       "2021-04-04 05:50:00     1   69     72     40 2021-04-03 10:00:00\n",
       "2021-04-04 06:00:00     1   69     72     40 2021-04-03 10:00:00\n",
       "2021-04-04 06:10:00     2  123    130     71 2021-04-03 10:00:00\n",
       "2021-04-04 06:20:00     2  123    130     71 2021-04-03 10:00:00\n",
       "\n",
       "[120 rows x 5 columns]"
      ]
     },
     "execution_count": 9,
     "metadata": {},
     "output_type": "execute_result"
    }
   ],
   "source": [
    "def get_predictions(df, timestamp):\n",
    "    return df[df[\"collected\"] == timestamp]\n",
    "\n",
    "get_predictions(hourly, datetime(2021, 4, 3, hour = 10))"
   ]
  },
  {
   "cell_type": "code",
   "execution_count": 25,
   "metadata": {},
   "outputs": [
    {
     "data": {
      "image/png": "[encoded data removed]",
      "text/plain": [
       "<Figure size 720x360 with 1 Axes>"
      ]
     },
     "metadata": {
      "needs_background": "light"
     },
     "output_type": "display_data"
    }
   ],
   "source": [
    "def plot_prediction(df):\n",
    "    plt.figure(figsize = (10, 5))\n",
    "    plt.plot(df.index, df[\"GHI\"])\n",
    "    plt.fill_between(df.index, df[\"GHI10\"], df[\"GHI90\"], alpha = 0.5, color = \"pink\")\n",
    "    time = df.iloc[0][\"collected\"].strftime(\"%d %B, %H.%M\")\n",
    "    plt.title(\"Predictions with 10 and 90 confidence level - {}\".format( time))\n",
    "    \n",
    "    plt.xlabel(\"Date\")\n",
    "    plt.ylabel(\"GHI\")\n",
    "\n",
    "plot_prediction(get_predictions(hourly, datetime(2021, 4, 10, hour = 1)))"
   ]
  },
  {
   "cell_type": "code",
   "execution_count": 26,
   "metadata": {},
   "outputs": [],
   "source": [
    "hourly.to_csv(\"../src/data/solcast_cleaned.csv\")"
   ]
  },
  {
   "cell_type": "code",
   "execution_count": null,
   "metadata": {},
   "outputs": [],
   "source": []
  }
 ],
 "metadata": {
  "kernelspec": {
   "display_name": "Python 3",
   "language": "python",
   "name": "python3"
  },
  "language_info": {
   "codemirror_mode": {
    "name": "ipython",
    "version": 3
   },
   "file_extension": ".py",
   "mimetype": "text/x-python",
   "name": "python",
   "nbconvert_exporter": "python",
   "pygments_lexer": "ipython3",
   "version": "3.8.5"
  }
 },
 "nbformat": 4,
 "nbformat_minor": 5
}
