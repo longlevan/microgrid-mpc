{
 "cells": [
  {
   "cell_type": "markdown",
   "id": "assisted-bouquet",
   "metadata": {},
   "source": [
    "## PV-production forecast analysis"
   ]
  },
  {
   "cell_type": "code",
   "execution_count": 2,
   "id": "viral-cedar",
   "metadata": {},
   "outputs": [],
   "source": [
    "import numpy as np\n",
    "import pandas as pd\n",
    "import matplotlib.pyplot as plt\n",
    "from casadi import *"
   ]
  },
  {
   "cell_type": "code",
   "execution_count": 6,
   "id": "aquatic-joint",
   "metadata": {},
   "outputs": [
    {
     "data": {
      "text/html": [
       "<div>\n",
       "<style scoped>\n",
       "    .dataframe tbody tr th:only-of-type {\n",
       "        vertical-align: middle;\n",
       "    }\n",
       "\n",
       "    .dataframe tbody tr th {\n",
       "        vertical-align: top;\n",
       "    }\n",
       "\n",
       "    .dataframe thead th {\n",
       "        text-align: right;\n",
       "    }\n",
       "</style>\n",
       "<table border=\"1\" class=\"dataframe\">\n",
       "  <thead>\n",
       "    <tr style=\"text-align: right;\">\n",
       "      <th></th>\n",
       "      <th>L2_react</th>\n",
       "      <th>L2</th>\n",
       "      <th>L</th>\n",
       "      <th>L_react</th>\n",
       "      <th>NS4949_export</th>\n",
       "      <th>L2_active_import</th>\n",
       "      <th>PV</th>\n",
       "      <th>Wind_speed</th>\n",
       "      <th>Temperature</th>\n",
       "      <th>Global_irradiance</th>\n",
       "      <th>Plane_irradiance</th>\n",
       "      <th>Module_temp</th>\n",
       "      <th>Bat_current</th>\n",
       "      <th>Bat_energy</th>\n",
       "      <th>Battery_SOC</th>\n",
       "      <th>Battery_voltage</th>\n",
       "      <th>Battery_charge</th>\n",
       "      <th>Battery_discharge</th>\n",
       "      <th>L1</th>\n",
       "    </tr>\n",
       "    <tr>\n",
       "      <th>date</th>\n",
       "      <th></th>\n",
       "      <th></th>\n",
       "      <th></th>\n",
       "      <th></th>\n",
       "      <th></th>\n",
       "      <th></th>\n",
       "      <th></th>\n",
       "      <th></th>\n",
       "      <th></th>\n",
       "      <th></th>\n",
       "      <th></th>\n",
       "      <th></th>\n",
       "      <th></th>\n",
       "      <th></th>\n",
       "      <th></th>\n",
       "      <th></th>\n",
       "      <th></th>\n",
       "      <th></th>\n",
       "      <th></th>\n",
       "    </tr>\n",
       "  </thead>\n",
       "  <tbody>\n",
       "    <tr>\n",
       "      <th>2020-10-01 01:00:00</th>\n",
       "      <td>-1.672253</td>\n",
       "      <td>8.917166</td>\n",
       "      <td>105.823796</td>\n",
       "      <td>-1.330095</td>\n",
       "      <td>103.75</td>\n",
       "      <td>7.500</td>\n",
       "      <td>0.003709</td>\n",
       "      <td>5.0</td>\n",
       "      <td>1.885714</td>\n",
       "      <td>0.017964</td>\n",
       "      <td>0.018072</td>\n",
       "      <td>0.000171</td>\n",
       "      <td>-0.181818</td>\n",
       "      <td>762.249603</td>\n",
       "      <td>69.649998</td>\n",
       "      <td>751.549988</td>\n",
       "      <td>0.000042</td>\n",
       "      <td>0.000031</td>\n",
       "      <td>96.906629</td>\n",
       "    </tr>\n",
       "    <tr>\n",
       "      <th>2020-10-01 01:10:00</th>\n",
       "      <td>-1.528216</td>\n",
       "      <td>6.749649</td>\n",
       "      <td>99.311711</td>\n",
       "      <td>1.809572</td>\n",
       "      <td>115.00</td>\n",
       "      <td>5.625</td>\n",
       "      <td>0.037092</td>\n",
       "      <td>3.0</td>\n",
       "      <td>13.221428</td>\n",
       "      <td>0.179641</td>\n",
       "      <td>0.180723</td>\n",
       "      <td>0.001712</td>\n",
       "      <td>-0.714286</td>\n",
       "      <td>761.702393</td>\n",
       "      <td>69.599998</td>\n",
       "      <td>751.555542</td>\n",
       "      <td>0.000416</td>\n",
       "      <td>0.000313</td>\n",
       "      <td>92.562062</td>\n",
       "    </tr>\n",
       "    <tr>\n",
       "      <th>2020-10-01 01:20:00</th>\n",
       "      <td>-1.325077</td>\n",
       "      <td>7.088984</td>\n",
       "      <td>106.926927</td>\n",
       "      <td>-0.357718</td>\n",
       "      <td>98.75</td>\n",
       "      <td>7.500</td>\n",
       "      <td>0.074184</td>\n",
       "      <td>4.0</td>\n",
       "      <td>13.292857</td>\n",
       "      <td>0.359281</td>\n",
       "      <td>0.361446</td>\n",
       "      <td>0.003423</td>\n",
       "      <td>-0.769231</td>\n",
       "      <td>762.796814</td>\n",
       "      <td>69.699997</td>\n",
       "      <td>751.549988</td>\n",
       "      <td>0.000832</td>\n",
       "      <td>0.000627</td>\n",
       "      <td>99.837943</td>\n",
       "    </tr>\n",
       "  </tbody>\n",
       "</table>\n",
       "</div>"
      ],
      "text/plain": [
       "                     L2_react        L2           L   L_react  NS4949_export  \\\n",
       "date                                                                           \n",
       "2020-10-01 01:00:00 -1.672253  8.917166  105.823796 -1.330095         103.75   \n",
       "2020-10-01 01:10:00 -1.528216  6.749649   99.311711  1.809572         115.00   \n",
       "2020-10-01 01:20:00 -1.325077  7.088984  106.926927 -0.357718          98.75   \n",
       "\n",
       "                     L2_active_import        PV  Wind_speed  Temperature  \\\n",
       "date                                                                       \n",
       "2020-10-01 01:00:00             7.500  0.003709         5.0     1.885714   \n",
       "2020-10-01 01:10:00             5.625  0.037092         3.0    13.221428   \n",
       "2020-10-01 01:20:00             7.500  0.074184         4.0    13.292857   \n",
       "\n",
       "                     Global_irradiance  Plane_irradiance  Module_temp  \\\n",
       "date                                                                    \n",
       "2020-10-01 01:00:00           0.017964          0.018072     0.000171   \n",
       "2020-10-01 01:10:00           0.179641          0.180723     0.001712   \n",
       "2020-10-01 01:20:00           0.359281          0.361446     0.003423   \n",
       "\n",
       "                     Bat_current  Bat_energy  Battery_SOC  Battery_voltage  \\\n",
       "date                                                                         \n",
       "2020-10-01 01:00:00    -0.181818  762.249603    69.649998       751.549988   \n",
       "2020-10-01 01:10:00    -0.714286  761.702393    69.599998       751.555542   \n",
       "2020-10-01 01:20:00    -0.769231  762.796814    69.699997       751.549988   \n",
       "\n",
       "                     Battery_charge  Battery_discharge         L1  \n",
       "date                                                               \n",
       "2020-10-01 01:00:00        0.000042           0.000031  96.906629  \n",
       "2020-10-01 01:10:00        0.000416           0.000313  92.562062  \n",
       "2020-10-01 01:20:00        0.000832           0.000627  99.837943  "
      ]
     },
     "execution_count": 6,
     "metadata": {},
     "output_type": "execute_result"
    }
   ],
   "source": [
    "data = pd.read_csv(\"./data/data_oct20.csv\", parse_dates = [\"date\"])\n",
    "data = data.iloc[::10].reset_index(drop=True)\n",
    "data.set_index(\"date\", inplace = True)\n",
    "data.head(3)"
   ]
  },
  {
   "cell_type": "code",
   "execution_count": 9,
   "id": "impressive-virgin",
   "metadata": {},
   "outputs": [
    {
     "data": {
      "text/html": [
       "<div>\n",
       "<style scoped>\n",
       "    .dataframe tbody tr th:only-of-type {\n",
       "        vertical-align: middle;\n",
       "    }\n",
       "\n",
       "    .dataframe tbody tr th {\n",
       "        vertical-align: top;\n",
       "    }\n",
       "\n",
       "    .dataframe thead th {\n",
       "        text-align: right;\n",
       "    }\n",
       "</style>\n",
       "<table border=\"1\" class=\"dataframe\">\n",
       "  <thead>\n",
       "    <tr style=\"text-align: right;\">\n",
       "      <th></th>\n",
       "      <th>PeriodEnd</th>\n",
       "      <th>AirTemp</th>\n",
       "      <th>Ghi</th>\n",
       "      <th>WindSpeed10m</th>\n",
       "    </tr>\n",
       "    <tr>\n",
       "      <th>PeriodStart</th>\n",
       "      <th></th>\n",
       "      <th></th>\n",
       "      <th></th>\n",
       "      <th></th>\n",
       "    </tr>\n",
       "  </thead>\n",
       "  <tbody>\n",
       "    <tr>\n",
       "      <th>2020-09-30 00:10:00</th>\n",
       "      <td>2020-09-30 00:20:00+00:00</td>\n",
       "      <td>10.8</td>\n",
       "      <td>0</td>\n",
       "      <td>0.6</td>\n",
       "    </tr>\n",
       "    <tr>\n",
       "      <th>2020-09-30 00:20:00</th>\n",
       "      <td>2020-09-30 00:30:00+00:00</td>\n",
       "      <td>10.8</td>\n",
       "      <td>0</td>\n",
       "      <td>0.5</td>\n",
       "    </tr>\n",
       "  </tbody>\n",
       "</table>\n",
       "</div>"
      ],
      "text/plain": [
       "                                    PeriodEnd  AirTemp  Ghi  WindSpeed10m\n",
       "PeriodStart                                                              \n",
       "2020-09-30 00:10:00 2020-09-30 00:20:00+00:00     10.8    0           0.6\n",
       "2020-09-30 00:20:00 2020-09-30 00:30:00+00:00     10.8    0           0.5"
      ]
     },
     "execution_count": 9,
     "metadata": {},
     "output_type": "execute_result"
    }
   ],
   "source": [
    "solcast_data = pd.read_csv(\"./data/solcast_oct.csv\", parse_dates = [\"PeriodEnd\", \"PeriodStart\"])\n",
    "solcast_data.drop([\"Period\"], axis = 1, inplace = True)\n",
    "solcast_data.set_index(\"PeriodStart\", inplace = True)\n",
    "solcast_data.index = solcast_data.index.tz_convert(None)\n",
    "solcast_data.head(2)"
   ]
  },
  {
   "cell_type": "code",
   "execution_count": 10,
   "id": "auburn-insider",
   "metadata": {},
   "outputs": [],
   "source": [
    "df = pd.merge(data, solcast_data, how=\"inner\", left_index=True, right_index =True)"
   ]
  },
  {
   "cell_type": "code",
   "execution_count": 11,
   "id": "hindu-bahamas",
   "metadata": {},
   "outputs": [],
   "source": [
    "class Photovoltaic:\n",
    "\n",
    "    # Parameters from Vinod2018\n",
    "    def __init__(\n",
    "        self,\n",
    "        Pm=800,\n",
    "        Im=8.36,\n",
    "        Vm=37.38,\n",
    "        Voc=100,\n",
    "        Isc=9.06,\n",
    "        Ns=72,\n",
    "        A=1.3,\n",
    "        Ki=0.058,\n",
    "        Eg=1.1,\n",
    "    ):\n",
    "        self.V_value = 0\n",
    "        self.I_value = 0\n",
    "        self.Pm = Pm  # Power max at STC\n",
    "        self.Im = Im  # Current max at STC\n",
    "        self.Vm = Vm  # Voltage max at STC\n",
    "        self.Voc = Voc  # Open circuit voltage at STC\n",
    "        self.Isc = Isc  # Short circuit current\n",
    "        self.Ns = Ns  # Number of cells connected in series\n",
    "        self.A = A  # Diode ideality factor\n",
    "        self.Ki = Ki  # Model constant\n",
    "        self.Eg = Eg  # Energy band gap\n",
    "        self.rs = 0  # Equivalent series resistance\n",
    "        self.rsh = 0  # Shunt resistance\n",
    "        self.K = 1.3805e-23  # Boltzmann\n",
    "        self.q = 1.602e-19  # Electron charge\n",
    "        self.Tref = 298.15  # Ref temp STC of 25C in Kelvin\n",
    "        self.Gref = 1000  # Ref solar STC\n",
    "\n",
    "        self.solver = None\n",
    "\n",
    "        self.estimate()\n",
    "        self.create_nlp()\n",
    "\n",
    "    def estimate(self):\n",
    "        I = SX.sym(\"I\")\n",
    "        V = SX.sym(\"V\")\n",
    "        Rs = SX.sym(\"Rs\")\n",
    "        Rsh = SX.sym(\"Rsh\")\n",
    "\n",
    "        Irs = SX.sym(\"Irs\")\n",
    "        Is = SX.sym(\"Is\")\n",
    "        Iph = SX.sym(\"Iph\")\n",
    "\n",
    "        Irs = self.Isc / (\n",
    "            np.exp((self.q * self.Voc) / (self.Ns * self.K * self.A * self.Tref)) - 1\n",
    "        )\n",
    "        Is = Irs\n",
    "        Iph = self.Isc\n",
    "\n",
    "        g = I - (\n",
    "            Iph\n",
    "            - Is\n",
    "            * (\n",
    "                np.exp(self.q * (V + I * Rs) / (self.Ns * self.K * self.A * self.Tref))\n",
    "                - 1\n",
    "            )\n",
    "            - (V + I * Rs) / Rsh\n",
    "        )\n",
    "        f = power(self.Pm - I * V, 2)\n",
    "\n",
    "        nlp_prob = {\"f\": f, \"x\": vertcat(I, V, Rs, Rsh), \"g\": g}\n",
    "\n",
    "        s_opts = {\"ipopt\": {\"print_level\": 0}, \"print_time\": False}\n",
    "\n",
    "        solver = nlpsol(\"solver\", \"ipopt\", nlp_prob, s_opts)\n",
    "\n",
    "        x0 = DM.ones(1, 4)\n",
    "        lbx = 1e-3 * DM.ones(1, 4)\n",
    "        ubx = DM([1e3, 1e3, 100, 100])\n",
    "        lbg = 0\n",
    "        ubg = 0\n",
    "\n",
    "        res_nlp = solver(x0=x0, lbx=lbx, ubx=ubx, lbg=lbg, ubg=ubg)\n",
    "\n",
    "        self.I_value = res_nlp[\"x\"][0]\n",
    "        self.V_value = res_nlp[\"x\"][1]\n",
    "        # print(self.V_value, \">V\")\n",
    "        # print(self.I_value, \">I\")\n",
    "        self.rs = res_nlp[\"x\"][2]\n",
    "        self.rsh = res_nlp[\"x\"][3]\n",
    "\n",
    "        # print(\"Estimated: Rs = \", self.rs, \" Rsh = \", self.rsh)\n",
    "\n",
    "    def create_nlp(self):\n",
    "        I = SX.sym(\"I\")\n",
    "        V = SX.sym(\"V\")\n",
    "        T = SX.sym(\"T\")\n",
    "        G = SX.sym(\"G\")\n",
    "\n",
    "        Irs = SX.sym(\"Irs\")  # Reverse saturation current\n",
    "        Is = SX.sym(\"Is\")  # Saturation current\n",
    "        Iph = SX.sym(\"Iph\")  # Photovoltaic current\n",
    "\n",
    "        Irs = self.Isc / (\n",
    "            np.exp((self.q * self.Voc) / (self.Ns * self.K * self.A * T)) - 1\n",
    "        )\n",
    "        Is = (\n",
    "            Irs\n",
    "            * power(T / self.Tref, 3)\n",
    "            * np.exp((self.q * self.Eg) / (self.A * self.K) * (1 / self.Tref - 1 / T))\n",
    "        )\n",
    "        Iph = G / self.Gref * (self.Isc + self.Ki * (T - self.Tref))\n",
    "\n",
    "        g = I - (\n",
    "            Iph\n",
    "            - Is\n",
    "            * (np.exp(self.q * (V + I * self.rs) / (self.Ns * self.K * self.A * T)) - 1)\n",
    "        )  # - (V + I * self.rs)/self.rsh)\n",
    "        f = -I * V\n",
    "\n",
    "        nlp_prob = {\"f\": f, \"x\": vertcat(I, V), \"g\": g, \"p\": vertcat(T, G)}\n",
    "\n",
    "        s_opts = {\"ipopt\": {\"print_level\": 0}, \"print_time\": False}\n",
    "\n",
    "        self.solver = nlpsol(\"solver\", \"ipopt\", nlp_prob, s_opts)\n",
    "\n",
    "    def solve_prob(self, T, G):\n",
    "        x0 = DM([0, 0])\n",
    "        lbx = DM([0, 0])\n",
    "        ubx = DM([1e3, 1e3])\n",
    "        lbg = 0\n",
    "        ubg = 0\n",
    "        param = vertcat(273.15 + T, G)\n",
    "\n",
    "        res_nlp = self.solver(x0=x0, lbx=lbx, ubx=ubx, lbg=lbg, ubg=ubg, p=param)\n",
    "        self.I_value = res_nlp[\"x\"][0]\n",
    "        self.V_value = res_nlp[\"x\"][1]\n",
    "        # print(self.V_value, \"her\")\n",
    "        # print(self.I_value, \"heri\")\n",
    "\n",
    "        # print(\"Power:\", self.V_value * self.I_value)\n",
    "        return (self.V_value * self.I_value).full().flatten()[0]\n",
    "\n",
    "    def predict(self, T, G):\n",
    "        assert len(T) == len(G)\n",
    "        return np.asarray([self.solve_prob(T[i], G[i]) for i in range(len(T))])\n"
   ]
  },
  {
   "cell_type": "code",
   "execution_count": 24,
   "id": "joined-discretion",
   "metadata": {},
   "outputs": [
    {
     "data": {
      "text/plain": [
       "<matplotlib.legend.Legend at 0x7fe8d03ccb00>"
      ]
     },
     "execution_count": 24,
     "metadata": {},
     "output_type": "execute_result"
    },
    {
     "data": {
      "image/png": "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\n",
      "text/plain": [
       "<Figure size 1440x720 with 1 Axes>"
      ]
     },
     "metadata": {
      "needs_background": "light"
     },
     "output_type": "display_data"
    }
   ],
   "source": [
    "PV = Photovoltaic()\n",
    "num_steps = 450\n",
    "data_red = df.iloc[0:num_steps]\n",
    "pv_output = PV.predict(data_red[\"AirTemp\"], data_red[\"Ghi\"])\n",
    "\n",
    "#df[\"PV_pred\"] = pv_output\n",
    "plt.figure(figsize= (20, 10))\n",
    "plt.plot(range(data_red.shape[0]), data_red.PV)\n",
    "#plt.plot(range(data_red.shape[0]), data_red.Global_irradiance)\n",
    "plt.plot(range(data_red.shape[0]), pv_output)\n",
    "plt.title(\"Predicted PV-Values based on historical Solcast-data\")\n",
    "plt.legend([\"Real PV\",\"Forecasted PV\"])"
   ]
  },
  {
   "cell_type": "code",
   "execution_count": 13,
   "id": "amber-intention",
   "metadata": {},
   "outputs": [],
   "source": [
    "def rmse(y_true, y_pred):\n",
    "    return np.sqrt(((y_pred - y_true) ** 2).mean())"
   ]
  },
  {
   "cell_type": "code",
   "execution_count": 14,
   "id": "organized-savannah",
   "metadata": {},
   "outputs": [
    {
     "name": "stdout",
     "output_type": "stream",
     "text": [
      "Root mean squared error\n",
      "PV Production: 36.0542643154387\n",
      "Temperature: 2.0642892364097563\n",
      "GHI: 48.06059996128383\n"
     ]
    }
   ],
   "source": [
    "print(\"Root mean squared error\")\n",
    "print(\"PV Production:\", rmse(df[\"PV\"], df[\"PV_pred\"]))\n",
    "print(\"Temperature:\", rmse(df[\"Temperature\"], df[\"AirTemp\"]))\n",
    "print(\"GHI:\", rmse(df[\"Global_irradiance\"], df[\"Ghi\"]))"
   ]
  },
  {
   "cell_type": "code",
   "execution_count": 15,
   "id": "democratic-wrestling",
   "metadata": {},
   "outputs": [
    {
     "data": {
      "text/plain": [
       "36.02713883853932"
      ]
     },
     "execution_count": 15,
     "metadata": {},
     "output_type": "execute_result"
    }
   ],
   "source": [
    "\n",
    "df[\"errors\"] = np.around(df[\"PV\"] - df[\"PV_pred\"])\n",
    "df[\"errors\"].std()"
   ]
  },
  {
   "cell_type": "code",
   "execution_count": 11,
   "id": "talented-insert",
   "metadata": {},
   "outputs": [
    {
     "data": {
      "image/png": "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\n",
      "text/plain": [
       "<Figure size 432x288 with 1 Axes>"
      ]
     },
     "metadata": {
      "needs_background": "light"
     },
     "output_type": "display_data"
    }
   ],
   "source": [
    "plt.hist(df.errors, bins = 15)\n",
    "plt.show()"
   ]
  },
  {
   "cell_type": "code",
   "execution_count": null,
<<<<<<< HEAD
   "id": "periodic-learning",
=======
   "id": "olive-connectivity",
>>>>>>> error-analysis
   "metadata": {},
   "outputs": [],
   "source": []
  }
 ],
 "metadata": {
  "kernelspec": {
   "display_name": "Python 3",
   "language": "python",
   "name": "python3"
  },
  "language_info": {
   "codemirror_mode": {
    "name": "ipython",
    "version": 3
   },
   "file_extension": ".py",
   "mimetype": "text/x-python",
   "name": "python",
   "nbconvert_exporter": "python",
   "pygments_lexer": "ipython3",
   "version": "3.6.12"
  }
 },
 "nbformat": 4,
 "nbformat_minor": 5
}
