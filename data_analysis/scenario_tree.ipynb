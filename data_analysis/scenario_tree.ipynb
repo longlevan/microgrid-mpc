{
 "cells": [
  {
   "cell_type": "markdown",
   "metadata": {},
   "source": [
    "## Scenario Trees - Workspace"
   ]
  },
  {
   "cell_type": "code",
   "execution_count": 30,
   "metadata": {},
   "outputs": [],
   "source": [
    "import pandas as pd\n",
    "import numpy as np\n",
    "import matplotlib.pyplot as plt\n",
    "import datetime as dt\n",
    "\n",
    "from casadi import *\n",
    "from casadi.tools import *"
   ]
  },
  {
   "cell_type": "code",
   "execution_count": 13,
   "metadata": {},
   "outputs": [],
   "source": [
    "df = pd.read_csv(\"./solcast_cleaned.csv\", parse_dates = [\"time\" ,\"collected\"])\n"
   ]
  },
  {
   "cell_type": "code",
   "execution_count": 27,
   "metadata": {},
   "outputs": [
    {
     "data": {
      "image/png": "[encoded data removed]",
      "text/plain": [
       "<Figure size 432x288 with 1 Axes>"
      ]
     },
     "metadata": {
      "needs_background": "light"
     },
     "output_type": "display_data"
    }
   ],
   "source": [
    "single_forecast = df[df[\"collected\"] ==  dt.datetime(2021, 2, 22, 8)]\n",
    "\n",
    "plt.plot(single_forecast.time, single_forecast.GHI)\n",
    "plt.fill_between(single_forecast.time,single_forecast.GHI10, single_forecast.GHI90, color = \"red\", alpha = 0.3)\n",
    "plt.show()"
   ]
  },
  {
   "cell_type": "code",
   "execution_count": 34,
   "metadata": {},
   "outputs": [],
   "source": [
    "\n",
    "N = 6\n",
    "b_factor = 3\n",
    "N_robust = 2\n",
    "N_scenarios = b_factor*N_robust\n",
    "\n",
    "states = struct_symSX([entry(\"SOC\")])\n",
    "inputs = struct_symSX(\n",
    "    [\n",
    "        entry(\"Pbc\"),\n",
    "        entry(\"Pbd\"),\n",
    "        entry(\"Pgb\"),\n",
    "        entry(\"Pgs\"),\n",
    "    ]\n",
    ")\n",
    "\n",
    "w = struct_symSX(\n",
    "    [\n",
    "        entry(\"states\", struct=states, repeat=N),\n",
    "        entry(\"inputs\", struct=inputs, repeat=N - 1),\n",
    "    ]\n",
    ")\n",
    "data = struct_symSX([entry(\"pv\"), entry(\"l1\"), entry(\"l2\"), entry(\"E\")])\n",
    "all_data = struct_symSX([entry(\"data\", struct=data, repeat=N)])\n",
    "\n",
    "scenario = struct_symSX(\n",
    "    [entry(\"w\", struct=w), entry(\"data\", struct=data, repeat=N)]\n",
    ")\n",
    "scenarios = []\n",
    "\n",
    "for k in range(N_scenarios):\n",
    "    scenarios.append(entry(\"scenario\" + str(k), struct=scenario))\n",
    "\n",
    "scenarios = struct_symSX(scenarios)\n",
    "s = scenarios(0)"
   ]
  },
  {
   "cell_type": "code",
   "execution_count": 41,
   "metadata": {},
   "outputs": [
    {
     "name": "stdout",
     "output_type": "stream",
     "text": [
      "0\n",
      "1\n",
      "2\n",
      "3\n",
      "4\n",
      "5\n"
     ]
    }
   ],
   "source": [
    "def scenario_tree_min_max(s, N, N_robust, forecast, min_, max_):\n",
    "    \"\"\"\n",
    "    Creates a scenario tree between provided min and max.\n",
    "    Branching factor is always 3, where each scenario varies\n",
    "    between min, mean, and max\n",
    "    \n",
    "    \n",
    "    s = Casadi structure to store scenario\n",
    "    N = prediction horizon\n",
    "    N_robust = Robust horizon\n",
    "    Forecast = Expected forecast\n",
    "    Min = Minumum expected value\n",
    "    Max = Maximum expected value\n",
    "    \"\"\"\n",
    "    assert N_robust < N\n",
    "    scen = 0\n",
    "    for k in range(N_robust):\n",
    "        for j in range(b_factor):\n",
    "            scen+= 1\n",
    "\n",
    "            \n",
    "        \n",
    "\n",
    "\n",
    "scenario_tree_min_max(s, N, b_factor, N_robust, single_forecast.GHI, single_forecast.GHI10, single_forecast.GHI90)"
   ]
  },
  {
   "cell_type": "code",
   "execution_count": null,
   "metadata": {},
   "outputs": [],
   "source": []
  }
 ],
 "metadata": {
  "kernelspec": {
   "display_name": "Python 3",
   "language": "python",
   "name": "python3"
  },
  "language_info": {
   "codemirror_mode": {
    "name": "ipython",
    "version": 3
   },
   "file_extension": ".py",
   "mimetype": "text/x-python",
   "name": "python",
   "nbconvert_exporter": "python",
   "pygments_lexer": "ipython3",
   "version": "3.8.5"
  }
 },
 "nbformat": 4,
 "nbformat_minor": 4
}
