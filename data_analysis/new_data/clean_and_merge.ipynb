{
 "cells": [
  {
   "cell_type": "code",
   "execution_count": 10,
   "metadata": {},
   "outputs": [],
   "source": [
    "import numpy as np\n",
    "import pandas as pd\n",
    "import matplotlib.pyplot as plt\n",
    "from datetime import datetime"
   ]
  },
  {
   "cell_type": "code",
   "execution_count": 158,
   "metadata": {},
   "outputs": [],
   "source": [
    "\n",
    "def resample_cumulative(df):\n",
    "    \"\"\"\n",
    "    \"\"\"\n",
    "    df = df.set_index(\"date\", drop = True)\n",
    "    df = df.resample(\"10T\").last()\n",
    "    df[\"value\"] = df[\"value\"].diff()*6\n",
    "    df = df.fillna(0)\n",
    "    return df\n",
    "\n",
    "def resample_continuous(df):\n",
    "    df = df.set_index(\"date\", drop = True)\n",
    "    return df.resample(\"10T\").mean()\n",
    "\n",
    "\n",
    "def clean_continuous(filename, name, start, stop):\n",
    "    df = pd.read_csv(filename, parse_dates= [[\"date\", \"time\"]]).rename(columns={\"date_time\":\"date\"})\n",
    "    df = resample_continuous(df)\n",
    "    df = df.rename(columns={\"value\":name})\n",
    "    return df[(df.index >= start) &(df.index < stop)]\n",
    "\n",
    "\n",
    "def clean_cumulative(filename, name, start, stop):\n",
    "    df = pd.read_csv(filename, parse_dates= [[\"date\", \"time\"]]).rename(columns={\"date_time\":\"date\"})\n",
    "    df = resample_cumulative(df)\n",
    "    df = df.rename(columns={\"value\":name})\n",
    "    return df[(df.index >= start) &(df.index < stop)]\n",
    "    \n",
    "    \n",
    "    "
   ]
  },
  {
   "cell_type": "code",
   "execution_count": 159,
   "metadata": {},
   "outputs": [],
   "source": [
    "start = datetime(2021, 3, 9)\n",
    "stop = datetime(2021, 3, 16)\n",
    "\n",
    "filenames_cont = [\"./air_temp.csv\",  \"./GHI.csv\", \"./P1P2_active.csv\", \"./P2_active.csv\", \"./SOC.csv\", \"./wind_speed.csv\"]\n",
    "filenames_cum = [\"./P2_load_import.csv\", \"./elspec_active_import.csv\", \"./PV_export.csv\"]\n",
    "\n",
    "column_names_cont = [\"airTemp\", \"GHI\", \"L\", \"L2_active\", \"SOC\",\"Wind_speed\"]\n",
    "column_names_cum = [\"L2_import\", \"elspec\", \"PV\"]\n",
    "\n",
    "\n",
    "air_temp,  GHI, P1P2, P2, SOC, wind_speed = [ clean_continuous(filenames_cont[i], column_names_cont[i], start, stop) for i in range(len(filenames_cont))]\n",
    "P2_import, elspec, PV = [clean_cumulative(filenames_cum[i], column_names_cum[i], start, stop) for i in range(len(filenames_cum))]\n",
    " \n",
    "\n",
    "\n"
   ]
  },
  {
   "cell_type": "code",
   "execution_count": 161,
   "metadata": {},
   "outputs": [],
   "source": [
    "\n",
    "df = pd.concat([air_temp, elspec, GHI, P1P2, P2, P2_import, PV, SOC, wind_speed], axis =1)\n",
    "\n",
    "df.to_csv(\"../../src/data/09.03_cleaned.csv\")"
   ]
  },
  {
   "cell_type": "code",
   "execution_count": null,
   "metadata": {},
   "outputs": [],
   "source": []
  }
 ],
 "metadata": {
  "kernelspec": {
   "display_name": "Python 3",
   "language": "python",
   "name": "python3"
  },
  "language_info": {
   "codemirror_mode": {
    "name": "ipython",
    "version": 3
   },
   "file_extension": ".py",
   "mimetype": "text/x-python",
   "name": "python",
   "nbconvert_exporter": "python",
   "pygments_lexer": "ipython3",
   "version": "3.8.5"
  }
 },
 "nbformat": 4,
 "nbformat_minor": 4
}
