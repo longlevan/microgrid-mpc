{
 "cells": [
  {
   "cell_type": "code",
   "execution_count": 90,
   "metadata": {},
   "outputs": [],
   "source": [
    "import numpy as np\n",
    "import pandas as pd\n",
    "import matplotlib.pyplot as plt\n",
    "from datetime import datetime"
   ]
  },
  {
   "cell_type": "code",
   "execution_count": 114,
   "metadata": {},
   "outputs": [],
   "source": [
    "def load_data(filename, name, start, stop):\n",
    "    df = pd.read_csv(filename, parse_dates= [[\"date\", \"time\"]]).set_index(\"date_time\", drop=True)\n",
    "    df = df.resample(\"10T\").mean().interpolate(method=\"linear\")\n",
    "    df = df[(df.index >= start) & (df.index < stop)]\n",
    "    df = df.rename(columns={\"value\":name})\n",
    "    print(\"Filename:\", filename)\n",
    "    print(df.shape, df.iloc[0], df.iloc[-1])\n",
    "    print()\n",
    "    return df\n",
    "\n",
    "def uncumulate(df):\n",
    "    df = df.diff()\n",
    "    return df.fillna(df.iloc[1,0])"
   ]
  },
  {
   "cell_type": "code",
   "execution_count": 115,
   "metadata": {},
   "outputs": [
    {
     "name": "stdout",
     "output_type": "stream",
     "text": [
      "Filename: ./air_temp.csv\n",
      "(1008, 1) airTemp   -5.5\n",
      "Name: 2021-03-09 00:00:00, dtype: float64 airTemp    1.5\n",
      "Name: 2021-03-15 23:50:00, dtype: float64\n",
      "\n",
      "Filename: ./elspec_active_import.csv\n",
      "(1008, 1) elspec    181110.393519\n",
      "Name: 2021-03-09 00:00:00, dtype: float64 elspec    216840.131944\n",
      "Name: 2021-03-15 23:50:00, dtype: float64\n",
      "\n",
      "Filename: ./GHI.csv\n",
      "(1008, 1) GHI    2.967105\n",
      "Name: 2021-03-09 00:00:00, dtype: float64 GHI    4.770833\n",
      "Name: 2021-03-15 23:50:00, dtype: float64\n",
      "\n",
      "Filename: ./P1P2_active.csv\n",
      "(1008, 1) L    138.505572\n",
      "Name: 2021-03-09 00:00:00, dtype: float64 L    117.804629\n",
      "Name: 2021-03-15 23:50:00, dtype: float64\n",
      "\n",
      "Filename: ./P2_active.csv\n",
      "(1008, 1) L2_active    13.994041\n",
      "Name: 2021-03-09 00:00:00, dtype: float64 L2_active    11.600739\n",
      "Name: 2021-03-15 23:50:00, dtype: float64\n",
      "\n",
      "Filename: ./P2_load_import.csv\n",
      "(1008, 1) L2_import    914213.546196\n",
      "Name: 2021-03-09 00:00:00, dtype: float64 L2_import    916726.440789\n",
      "Name: 2021-03-15 23:50:00, dtype: float64\n",
      "\n",
      "Filename: ./PV_export.csv\n",
      "(1008, 1) PV    956552.504219\n",
      "Name: 2021-03-09 00:00:00, dtype: float64 PV    960000.394737\n",
      "Name: 2021-03-15 23:50:00, dtype: float64\n",
      "\n",
      "Filename: ./SOC.csv\n",
      "(1008, 1) SOC    66.661109\n",
      "Name: 2021-03-09 00:00:00, dtype: float64 SOC    59.658333\n",
      "Name: 2021-03-15 23:50:00, dtype: float64\n",
      "\n",
      "Filename: ./wind_speed.csv\n",
      "(1008, 1) Wind_speed    0.0\n",
      "Name: 2021-03-09 00:00:00, dtype: float64 Wind_speed    0.5\n",
      "Name: 2021-03-15 23:50:00, dtype: float64\n",
      "\n"
     ]
    }
   ],
   "source": [
    "start = datetime(2021, 3, 9)\n",
    "stop = datetime(2021, 3, 16)\n",
    "\n",
    "filenames = [\"./air_temp.csv\", \"./elspec_active_import.csv\", \"./GHI.csv\", \"./P1P2_active.csv\", \"./P2_active.csv\", \"./P2_load_import.csv\", \"./PV_export.csv\", \"./SOC.csv\", \"./wind_speed.csv\"]\n",
    "column_names = [\"airTemp\",\"elspec\", \"GHI\", \"L\", \"L2_active\", \"L2_import\", \"PV\", \"SOC\",\"Wind_speed\"]\n",
    "air_temp, elspec, GHI, P1P2, P2, P2_import, PV, SOC, wind_speed = [load_data(filenames[i], column_names[i], start, stop) for i in range(len(filenames))]\n",
    "\n",
    "P2_import = uncumulate(P2_import)\n",
    "PV = uncumulate(PV)"
   ]
  },
  {
   "cell_type": "code",
   "execution_count": 120,
   "metadata": {},
   "outputs": [],
   "source": [
    "\n",
    "df = pd.concat([air_temp, elspec, GHI, P1P2, P2, P2_import, PV, SOC, wind_speed], axis =1)\n",
    "\n",
    "df.to_csv(\"../../src/data/09.03_cleaned.csv\", index=False)"
   ]
  },
  {
   "cell_type": "code",
   "execution_count": null,
   "metadata": {},
   "outputs": [],
   "source": []
  }
 ],
 "metadata": {
  "kernelspec": {
   "display_name": "Python 3",
   "language": "python",
   "name": "python3"
  },
  "language_info": {
   "codemirror_mode": {
    "name": "ipython",
    "version": 3
   },
   "file_extension": ".py",
   "mimetype": "text/x-python",
   "name": "python",
   "nbconvert_exporter": "python",
   "pygments_lexer": "ipython3",
   "version": "3.8.5"
  }
 },
 "nbformat": 4,
 "nbformat_minor": 4
}
