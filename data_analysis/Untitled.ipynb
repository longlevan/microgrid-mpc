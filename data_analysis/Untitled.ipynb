{
 "cells": [
  {
   "cell_type": "markdown",
   "metadata": {},
   "source": [
    "### PCA\n"
   ]
  },
  {
   "cell_type": "code",
   "execution_count": 3,
   "metadata": {},
   "outputs": [],
   "source": [
    "import numpy as np\n",
    "import pandas as pd\n",
    "import matplotlib.pyplot as plt\n",
    "from sklearn.decomposition import PCA"
   ]
  },
  {
   "cell_type": "code",
   "execution_count": 8,
   "metadata": {},
   "outputs": [
    {
     "data": {
      "text/html": [
       "<div>\n",
       "<style scoped>\n",
       "    .dataframe tbody tr th:only-of-type {\n",
       "        vertical-align: middle;\n",
       "    }\n",
       "\n",
       "    .dataframe tbody tr th {\n",
       "        vertical-align: top;\n",
       "    }\n",
       "\n",
       "    .dataframe thead th {\n",
       "        text-align: right;\n",
       "    }\n",
       "</style>\n",
       "<table border=\"1\" class=\"dataframe\">\n",
       "  <thead>\n",
       "    <tr style=\"text-align: right;\">\n",
       "      <th></th>\n",
       "      <th>0</th>\n",
       "      <th>1</th>\n",
       "      <th>2</th>\n",
       "      <th>3</th>\n",
       "      <th>4</th>\n",
       "      <th>5</th>\n",
       "      <th>6</th>\n",
       "      <th>7</th>\n",
       "      <th>8</th>\n",
       "      <th>9</th>\n",
       "      <th>...</th>\n",
       "      <th>52</th>\n",
       "      <th>53</th>\n",
       "      <th>54</th>\n",
       "      <th>55</th>\n",
       "      <th>56</th>\n",
       "      <th>57</th>\n",
       "      <th>58</th>\n",
       "      <th>59</th>\n",
       "      <th>date</th>\n",
       "      <th>rmse</th>\n",
       "    </tr>\n",
       "  </thead>\n",
       "  <tbody>\n",
       "    <tr>\n",
       "      <th>0</th>\n",
       "      <td>-0.700000</td>\n",
       "      <td>-2.64375</td>\n",
       "      <td>-3.2250</td>\n",
       "      <td>-7.85</td>\n",
       "      <td>-0.859375</td>\n",
       "      <td>6.2625</td>\n",
       "      <td>10.91875</td>\n",
       "      <td>3.75</td>\n",
       "      <td>10.096875</td>\n",
       "      <td>11.5000</td>\n",
       "      <td>...</td>\n",
       "      <td>42.015625</td>\n",
       "      <td>36.7875</td>\n",
       "      <td>18.03125</td>\n",
       "      <td>22.3125</td>\n",
       "      <td>12.675000</td>\n",
       "      <td>19.76875</td>\n",
       "      <td>-31.790625</td>\n",
       "      <td>-24.0000</td>\n",
       "      <td>2021-04-08 00:00:00</td>\n",
       "      <td>39.105831</td>\n",
       "    </tr>\n",
       "    <tr>\n",
       "      <th>1</th>\n",
       "      <td>-1.990625</td>\n",
       "      <td>-2.55000</td>\n",
       "      <td>-7.2375</td>\n",
       "      <td>-0.10</td>\n",
       "      <td>7.000000</td>\n",
       "      <td>11.5875</td>\n",
       "      <td>4.31875</td>\n",
       "      <td>10.75</td>\n",
       "      <td>11.362500</td>\n",
       "      <td>-9.1875</td>\n",
       "      <td>...</td>\n",
       "      <td>39.412500</td>\n",
       "      <td>21.0000</td>\n",
       "      <td>25.28125</td>\n",
       "      <td>15.4500</td>\n",
       "      <td>22.565625</td>\n",
       "      <td>-28.30625</td>\n",
       "      <td>-20.521875</td>\n",
       "      <td>-12.9375</td>\n",
       "      <td>2021-04-08 00:10:00</td>\n",
       "      <td>40.907865</td>\n",
       "    </tr>\n",
       "  </tbody>\n",
       "</table>\n",
       "<p>2 rows × 62 columns</p>\n",
       "</div>"
      ],
      "text/plain": [
       "          0        1       2     3         4        5         6      7  \\\n",
       "0 -0.700000 -2.64375 -3.2250 -7.85 -0.859375   6.2625  10.91875   3.75   \n",
       "1 -1.990625 -2.55000 -7.2375 -0.10  7.000000  11.5875   4.31875  10.75   \n",
       "\n",
       "           8        9  ...         52       53        54       55         56  \\\n",
       "0  10.096875  11.5000  ...  42.015625  36.7875  18.03125  22.3125  12.675000   \n",
       "1  11.362500  -9.1875  ...  39.412500  21.0000  25.28125  15.4500  22.565625   \n",
       "\n",
       "         57         58       59                date       rmse  \n",
       "0  19.76875 -31.790625 -24.0000 2021-04-08 00:00:00  39.105831  \n",
       "1 -28.30625 -20.521875 -12.9375 2021-04-08 00:10:00  40.907865  \n",
       "\n",
       "[2 rows x 62 columns]"
      ]
     },
     "execution_count": 8,
     "metadata": {},
     "output_type": "execute_result"
    }
   ],
   "source": [
    "load_errors = pd.read_csv(\"../src/data/load_errors_date.csv\", parse_dates = [\"date\"]).drop(\"Unnamed: 0\", axis = 1)\n",
    "pv_errors = pd.read_csv(\"../src/data/pv_errors_date.csv\", parse_dates = [\"date\"]).drop(\"Unnamed: 0\", axis = 1)\n",
    "load_errors.head(2)"
   ]
  },
  {
   "cell_type": "code",
   "execution_count": null,
   "metadata": {},
   "outputs": [],
   "source": []
  }
 ],
 "metadata": {
  "kernelspec": {
   "display_name": "Python 3",
   "language": "python",
   "name": "python3"
  },
  "language_info": {
   "codemirror_mode": {
    "name": "ipython",
    "version": 3
   },
   "file_extension": ".py",
   "mimetype": "text/x-python",
   "name": "python",
   "nbconvert_exporter": "python",
   "pygments_lexer": "ipython3",
   "version": "3.8.5"
  }
 },
 "nbformat": 4,
 "nbformat_minor": 4
}
